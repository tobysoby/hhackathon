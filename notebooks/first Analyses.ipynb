{
 "cells": [
  {
   "cell_type": "markdown",
   "metadata": {},
   "source": [
    "# Getting the Data "
   ]
  },
  {
   "cell_type": "code",
   "execution_count": 1,
   "metadata": {
    "collapsed": true
   },
   "outputs": [],
   "source": [
    "import facebook"
   ]
  },
  {
   "cell_type": "code",
   "execution_count": 2,
   "metadata": {
    "collapsed": false
   },
   "outputs": [],
   "source": [
    "\n",
    "token = '465406930468068|8e5e0af18cdd664fb0f0126686b3c821'\n",
    "\n",
    "graph = facebook.GraphAPI(access_token=token, version='2.7')\n"
   ]
  },
  {
   "cell_type": "code",
   "execution_count": 3,
   "metadata": {
    "collapsed": false
   },
   "outputs": [],
   "source": [
    "graph_dict = graph.get_connections('24369314439', connection_name='posts')"
   ]
  },
  {
   "cell_type": "code",
   "execution_count": 4,
   "metadata": {
    "collapsed": false
   },
   "outputs": [
    {
     "data": {
      "text/plain": [
       "[u'paging', u'data']"
      ]
     },
     "execution_count": 4,
     "metadata": {},
     "output_type": "execute_result"
    }
   ],
   "source": [
    "graph_dict.keys()"
   ]
  },
  {
   "cell_type": "code",
   "execution_count": 5,
   "metadata": {
    "collapsed": true
   },
   "outputs": [],
   "source": [
    "data = graph_dict['data']"
   ]
  },
  {
   "cell_type": "code",
   "execution_count": 6,
   "metadata": {
    "collapsed": false
   },
   "outputs": [],
   "source": [
    "import pandas as pd\n",
    "df = pd.DataFrame(data)"
   ]
  },
  {
   "cell_type": "markdown",
   "metadata": {},
   "source": [
    "The data as a table."
   ]
  },
  {
   "cell_type": "code",
   "execution_count": 7,
   "metadata": {
    "collapsed": false
   },
   "outputs": [
    {
     "data": {
      "text/html": [
       "<div>\n",
       "<table border=\"1\" class=\"dataframe\">\n",
       "  <thead>\n",
       "    <tr style=\"text-align: right;\">\n",
       "      <th></th>\n",
       "      <th>created_time</th>\n",
       "      <th>id</th>\n",
       "      <th>message</th>\n",
       "      <th>story</th>\n",
       "    </tr>\n",
       "  </thead>\n",
       "  <tbody>\n",
       "    <tr>\n",
       "      <th>0</th>\n",
       "      <td>2017-06-12T09:46:14+0000</td>\n",
       "      <td>24369314439_10154944302089440</td>\n",
       "      <td>Supporters of Putin-critic Alexei Navalny are ...</td>\n",
       "      <td>NaN</td>\n",
       "    </tr>\n",
       "    <tr>\n",
       "      <th>1</th>\n",
       "      <td>2017-06-12T08:39:39+0000</td>\n",
       "      <td>24369314439_10154944182269440</td>\n",
       "      <td>For all of our coverage in the run-up to the G...</td>\n",
       "      <td>NaN</td>\n",
       "    </tr>\n",
       "    <tr>\n",
       "      <th>2</th>\n",
       "      <td>2017-06-12T07:41:03+0000</td>\n",
       "      <td>24369314439_10154944052244440</td>\n",
       "      <td>Cheering, hundreds entered the EU in what Pres...</td>\n",
       "      <td>NaN</td>\n",
       "    </tr>\n",
       "    <tr>\n",
       "      <th>3</th>\n",
       "      <td>2017-06-12T06:39:55+0000</td>\n",
       "      <td>24369314439_10154943939884440</td>\n",
       "      <td>UK PM Theresa May's plan to recruit Northern I...</td>\n",
       "      <td>NaN</td>\n",
       "    </tr>\n",
       "    <tr>\n",
       "      <th>4</th>\n",
       "      <td>2017-06-12T05:47:15+0000</td>\n",
       "      <td>24369314439_10154942072974440</td>\n",
       "      <td>The first bicycle ride took place 200 years ag...</td>\n",
       "      <td>NaN</td>\n",
       "    </tr>\n",
       "  </tbody>\n",
       "</table>\n",
       "</div>"
      ],
      "text/plain": [
       "               created_time                             id  \\\n",
       "0  2017-06-12T09:46:14+0000  24369314439_10154944302089440   \n",
       "1  2017-06-12T08:39:39+0000  24369314439_10154944182269440   \n",
       "2  2017-06-12T07:41:03+0000  24369314439_10154944052244440   \n",
       "3  2017-06-12T06:39:55+0000  24369314439_10154943939884440   \n",
       "4  2017-06-12T05:47:15+0000  24369314439_10154942072974440   \n",
       "\n",
       "                                             message story  \n",
       "0  Supporters of Putin-critic Alexei Navalny are ...   NaN  \n",
       "1  For all of our coverage in the run-up to the G...   NaN  \n",
       "2  Cheering, hundreds entered the EU in what Pres...   NaN  \n",
       "3  UK PM Theresa May's plan to recruit Northern I...   NaN  \n",
       "4  The first bicycle ride took place 200 years ag...   NaN  "
      ]
     },
     "execution_count": 7,
     "metadata": {},
     "output_type": "execute_result"
    }
   ],
   "source": [
    "df.head()"
   ]
  },
  {
   "cell_type": "code",
   "execution_count": 8,
   "metadata": {
    "collapsed": false
   },
   "outputs": [],
   "source": [
    "df['time'] = pd.to_datetime(df.created_time)"
   ]
  },
  {
   "cell_type": "code",
   "execution_count": 9,
   "metadata": {
    "collapsed": false
   },
   "outputs": [
    {
     "data": {
      "text/plain": [
       "0    2017-06-12 09:46:14\n",
       "1    2017-06-12 08:39:39\n",
       "2    2017-06-12 07:41:03\n",
       "3    2017-06-12 06:39:55\n",
       "4    2017-06-12 05:47:15\n",
       "5    2017-06-12 04:47:00\n",
       "6    2017-06-12 04:32:28\n",
       "7    2017-06-12 04:03:00\n",
       "8    2017-06-12 02:03:00\n",
       "9    2017-06-12 00:03:00\n",
       "10   2017-06-11 22:03:00\n",
       "11   2017-06-11 20:03:00\n",
       "12   2017-06-11 18:03:00\n",
       "13   2017-06-11 15:53:04\n",
       "14   2017-06-11 15:09:07\n",
       "15   2017-06-11 14:23:31\n",
       "16   2017-06-11 13:21:48\n",
       "17   2017-06-11 12:23:12\n",
       "18   2017-06-11 11:38:34\n",
       "19   2017-06-11 10:47:57\n",
       "20   2017-06-11 09:49:59\n",
       "21   2017-06-11 09:03:00\n",
       "22   2017-06-11 07:02:00\n",
       "23   2017-06-11 05:03:00\n",
       "24   2017-06-11 03:01:00\n",
       "Name: time, dtype: datetime64[ns]"
      ]
     },
     "execution_count": 9,
     "metadata": {},
     "output_type": "execute_result"
    }
   ],
   "source": [
    "df.time"
   ]
  },
  {
   "cell_type": "markdown",
   "metadata": {},
   "source": [
    "# Named Entity Recognition "
   ]
  },
  {
   "cell_type": "code",
   "execution_count": 10,
   "metadata": {
    "collapsed": false
   },
   "outputs": [],
   "source": [
    "import spacy\n",
    "nlp = spacy.load('en')\n"
   ]
  },
  {
   "cell_type": "code",
   "execution_count": null,
   "metadata": {
    "collapsed": true
   },
   "outputs": [],
   "source": [
    "def preprocess_text(text):\n",
    "    "
   ]
  },
  {
   "cell_type": "code",
   "execution_count": 23,
   "metadata": {
    "collapsed": true
   },
   "outputs": [],
   "source": [
    "def get_named_entities(text):\n",
    "    doc = nlp(text)\n",
    "    out = [{'label':ent.label_, 'text':ent.text} for ent in doc.ents]\n",
    "    return out"
   ]
  },
  {
   "cell_type": "code",
   "execution_count": 24,
   "metadata": {
    "collapsed": false
   },
   "outputs": [],
   "source": [
    "df['named_entities'] = df.message.apply(get_named_entities)"
   ]
  },
  {
   "cell_type": "code",
   "execution_count": 22,
   "metadata": {
    "collapsed": false
   },
   "outputs": [
    {
     "data": {
      "text/plain": [
       "u\"Supporters of Putin-critic Alexei Navalny are expected to mark Monday's public holiday with over 200 rallies nationwide. Navalny will lead the Moscow protest, which has the potential to turn violent.\""
      ]
     },
     "execution_count": 22,
     "metadata": {},
     "output_type": "execute_result"
    }
   ],
   "source": [
    "df.message.iloc[0]"
   ]
  },
  {
   "cell_type": "code",
   "execution_count": 28,
   "metadata": {
    "collapsed": false
   },
   "outputs": [
    {
     "data": {
      "text/plain": [
       "[{'label': u'GPE', 'text': u'UK'},\n",
       " {'label': u'PERSON', 'text': u\"Theresa May's\"},\n",
       " {'label': u'LOC', 'text': u'Northern Ireland'},\n",
       " {'label': u'GPE', 'text': u'Dublin'},\n",
       " {'label': u'GPE', 'text': u'Brexit'},\n",
       " {'label': u'LOC', 'text': u'Europe'}]"
      ]
     },
     "execution_count": 28,
     "metadata": {},
     "output_type": "execute_result"
    }
   ],
   "source": [
    "df.named_entities[3]"
   ]
  },
  {
   "cell_type": "code",
   "execution_count": null,
   "metadata": {
    "collapsed": true
   },
   "outputs": [],
   "source": []
  }
 ],
 "metadata": {
  "kernelspec": {
   "display_name": "Python 2",
   "language": "python",
   "name": "python2"
  },
  "language_info": {
   "codemirror_mode": {
    "name": "ipython",
    "version": 2
   },
   "file_extension": ".py",
   "mimetype": "text/x-python",
   "name": "python",
   "nbconvert_exporter": "python",
   "pygments_lexer": "ipython2",
   "version": "2.7.12"
  }
 },
 "nbformat": 4,
 "nbformat_minor": 1
}
