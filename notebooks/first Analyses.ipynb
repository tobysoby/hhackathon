{
 "cells": [
  {
   "cell_type": "markdown",
   "metadata": {},
   "source": [
    "# Getting the Data "
   ]
  },
  {
   "cell_type": "code",
   "execution_count": 1,
   "metadata": {
    "collapsed": true
   },
   "outputs": [],
   "source": [
    "import facebook"
   ]
  },
  {
   "cell_type": "code",
   "execution_count": 2,
   "metadata": {
    "collapsed": false
   },
   "outputs": [],
   "source": [
    "\n",
    "token = '465406930468068|8e5e0af18cdd664fb0f0126686b3c821'\n",
    "\n",
    "graph = facebook.GraphAPI(access_token=token, version='2.7')\n"
   ]
  },
  {
   "cell_type": "code",
   "execution_count": 3,
   "metadata": {
    "collapsed": false
   },
   "outputs": [],
   "source": [
    "graph_dict = graph.get_connections('24369314439', connection_name='posts')"
   ]
  },
  {
   "cell_type": "code",
   "execution_count": 4,
   "metadata": {
    "collapsed": false
   },
   "outputs": [
    {
     "data": {
      "text/plain": [
       "[u'paging', u'data']"
      ]
     },
     "execution_count": 4,
     "metadata": {},
     "output_type": "execute_result"
    }
   ],
   "source": [
    "graph_dict.keys()"
   ]
  },
  {
   "cell_type": "code",
   "execution_count": 5,
   "metadata": {
    "collapsed": true
   },
   "outputs": [],
   "source": [
    "data = graph_dict['data']"
   ]
  },
  {
   "cell_type": "code",
   "execution_count": 6,
   "metadata": {
    "collapsed": false
   },
   "outputs": [],
   "source": [
    "import pandas as pd\n",
    "df = pd.DataFrame(data)"
   ]
  },
  {
   "cell_type": "markdown",
   "metadata": {},
   "source": [
    "## via requests "
   ]
  },
  {
   "cell_type": "code",
   "execution_count": 77,
   "metadata": {
    "collapsed": true
   },
   "outputs": [],
   "source": [
    "import json"
   ]
  },
  {
   "cell_type": "code",
   "execution_count": 75,
   "metadata": {
    "collapsed": true
   },
   "outputs": [],
   "source": [
    "import requests\n",
    "\n",
    "page_id = '24369314439'\n",
    "token = '465406930468068|8e5e0af18cdd664fb0f0126686b3c821'\n",
    "\n",
    "r = requests.get('https://graph.facebook.com/v2.9/' + page_id + '/posts?access_token=' + token + '&limit=100')"
   ]
  },
  {
   "cell_type": "code",
   "execution_count": 79,
   "metadata": {
    "collapsed": false
   },
   "outputs": [],
   "source": [
    "data= r.json()['data']"
   ]
  },
  {
   "cell_type": "code",
   "execution_count": 80,
   "metadata": {
    "collapsed": true
   },
   "outputs": [],
   "source": [
    "df = pd.DataFrame(data)"
   ]
  },
  {
   "cell_type": "markdown",
   "metadata": {},
   "source": [
    "The data as a table."
   ]
  },
  {
   "cell_type": "code",
   "execution_count": 81,
   "metadata": {
    "collapsed": false
   },
   "outputs": [
    {
     "data": {
      "text/html": [
       "<div>\n",
       "<table border=\"1\" class=\"dataframe\">\n",
       "  <thead>\n",
       "    <tr style=\"text-align: right;\">\n",
       "      <th></th>\n",
       "      <th>created_time</th>\n",
       "      <th>id</th>\n",
       "      <th>message</th>\n",
       "      <th>story</th>\n",
       "    </tr>\n",
       "  </thead>\n",
       "  <tbody>\n",
       "    <tr>\n",
       "      <th>0</th>\n",
       "      <td>2017-06-12T11:50:24+0000</td>\n",
       "      <td>24369314439_10154944511439440</td>\n",
       "      <td>Germany Decides: On the road to the elections\\...</td>\n",
       "      <td>DW News updated their cover photo.</td>\n",
       "    </tr>\n",
       "    <tr>\n",
       "      <th>1</th>\n",
       "      <td>2017-06-12T11:09:00+0000</td>\n",
       "      <td>24369314439_10154944432029440</td>\n",
       "      <td>Six cities, two reporters, one question: What ...</td>\n",
       "      <td>NaN</td>\n",
       "    </tr>\n",
       "    <tr>\n",
       "      <th>2</th>\n",
       "      <td>2017-06-12T09:46:14+0000</td>\n",
       "      <td>24369314439_10154944302089440</td>\n",
       "      <td>UPDATE: Russian opposition leader Alexei Naval...</td>\n",
       "      <td>NaN</td>\n",
       "    </tr>\n",
       "    <tr>\n",
       "      <th>3</th>\n",
       "      <td>2017-06-12T08:39:39+0000</td>\n",
       "      <td>24369314439_10154944182269440</td>\n",
       "      <td>For all of our coverage in the run-up to the G...</td>\n",
       "      <td>NaN</td>\n",
       "    </tr>\n",
       "    <tr>\n",
       "      <th>4</th>\n",
       "      <td>2017-06-12T07:41:03+0000</td>\n",
       "      <td>24369314439_10154944052244440</td>\n",
       "      <td>Cheering, hundreds entered the EU in what Pres...</td>\n",
       "      <td>NaN</td>\n",
       "    </tr>\n",
       "  </tbody>\n",
       "</table>\n",
       "</div>"
      ],
      "text/plain": [
       "               created_time                             id  \\\n",
       "0  2017-06-12T11:50:24+0000  24369314439_10154944511439440   \n",
       "1  2017-06-12T11:09:00+0000  24369314439_10154944432029440   \n",
       "2  2017-06-12T09:46:14+0000  24369314439_10154944302089440   \n",
       "3  2017-06-12T08:39:39+0000  24369314439_10154944182269440   \n",
       "4  2017-06-12T07:41:03+0000  24369314439_10154944052244440   \n",
       "\n",
       "                                             message  \\\n",
       "0  Germany Decides: On the road to the elections\\...   \n",
       "1  Six cities, two reporters, one question: What ...   \n",
       "2  UPDATE: Russian opposition leader Alexei Naval...   \n",
       "3  For all of our coverage in the run-up to the G...   \n",
       "4  Cheering, hundreds entered the EU in what Pres...   \n",
       "\n",
       "                                story  \n",
       "0  DW News updated their cover photo.  \n",
       "1                                 NaN  \n",
       "2                                 NaN  \n",
       "3                                 NaN  \n",
       "4                                 NaN  "
      ]
     },
     "execution_count": 81,
     "metadata": {},
     "output_type": "execute_result"
    }
   ],
   "source": [
    "df.head()"
   ]
  },
  {
   "cell_type": "code",
   "execution_count": 82,
   "metadata": {
    "collapsed": false
   },
   "outputs": [
    {
     "data": {
      "text/plain": [
       "(100, 4)"
      ]
     },
     "execution_count": 82,
     "metadata": {},
     "output_type": "execute_result"
    }
   ],
   "source": [
    "df.shape"
   ]
  },
  {
   "cell_type": "code",
   "execution_count": 83,
   "metadata": {
    "collapsed": false
   },
   "outputs": [],
   "source": [
    "df['time'] = pd.to_datetime(df.created_time)"
   ]
  },
  {
   "cell_type": "code",
   "execution_count": 84,
   "metadata": {
    "collapsed": false
   },
   "outputs": [
    {
     "data": {
      "text/plain": [
       "0    2017-06-12 11:50:24\n",
       "1    2017-06-12 11:09:00\n",
       "2    2017-06-12 09:46:14\n",
       "3    2017-06-12 08:39:39\n",
       "4    2017-06-12 07:41:03\n",
       "5    2017-06-12 06:39:55\n",
       "6    2017-06-12 05:47:15\n",
       "7    2017-06-12 04:47:00\n",
       "8    2017-06-12 04:32:28\n",
       "9    2017-06-12 04:03:00\n",
       "10   2017-06-12 02:03:00\n",
       "11   2017-06-12 00:03:00\n",
       "12   2017-06-11 22:03:00\n",
       "13   2017-06-11 20:03:00\n",
       "14   2017-06-11 18:03:00\n",
       "15   2017-06-11 15:53:04\n",
       "16   2017-06-11 15:09:07\n",
       "17   2017-06-11 14:23:31\n",
       "18   2017-06-11 13:21:48\n",
       "19   2017-06-11 12:23:12\n",
       "20   2017-06-11 11:38:34\n",
       "21   2017-06-11 10:47:57\n",
       "22   2017-06-11 09:49:59\n",
       "23   2017-06-11 09:03:00\n",
       "24   2017-06-11 07:02:00\n",
       "25   2017-06-11 05:03:00\n",
       "26   2017-06-11 03:01:00\n",
       "27   2017-06-11 01:02:00\n",
       "28   2017-06-10 23:02:00\n",
       "29   2017-06-10 21:03:00\n",
       "             ...        \n",
       "70   2017-06-08 17:19:21\n",
       "71   2017-06-08 14:01:41\n",
       "72   2017-06-08 13:03:37\n",
       "73   2017-06-08 11:51:51\n",
       "74   2017-06-08 10:59:42\n",
       "75   2017-06-08 10:57:08\n",
       "76   2017-06-08 09:58:56\n",
       "77   2017-06-08 08:54:43\n",
       "78   2017-06-08 06:01:01\n",
       "79   2017-06-08 05:12:39\n",
       "80   2017-06-08 03:53:42\n",
       "81   2017-06-08 02:47:41\n",
       "82   2017-06-08 01:35:52\n",
       "83   2017-06-08 00:23:14\n",
       "84   2017-06-07 23:20:12\n",
       "85   2017-06-07 22:10:27\n",
       "86   2017-06-07 21:04:50\n",
       "87   2017-06-07 20:00:35\n",
       "88   2017-06-07 18:49:43\n",
       "89   2017-06-07 17:34:40\n",
       "90   2017-06-07 16:14:32\n",
       "91   2017-06-07 14:56:57\n",
       "92   2017-06-07 13:37:57\n",
       "93   2017-06-07 12:21:56\n",
       "94   2017-06-07 11:02:39\n",
       "95   2017-06-07 09:50:46\n",
       "96   2017-06-07 08:50:16\n",
       "97   2017-06-07 07:50:23\n",
       "98   2017-06-07 06:47:04\n",
       "99   2017-06-07 05:50:59\n",
       "Name: time, dtype: datetime64[ns]"
      ]
     },
     "execution_count": 84,
     "metadata": {},
     "output_type": "execute_result"
    }
   ],
   "source": [
    "df.time"
   ]
  },
  {
   "cell_type": "markdown",
   "metadata": {},
   "source": [
    "# Named Entity Recognition "
   ]
  },
  {
   "cell_type": "code",
   "execution_count": 10,
   "metadata": {
    "collapsed": false
   },
   "outputs": [],
   "source": [
    "import spacy\n",
    "nlp = spacy.load('en')\n"
   ]
  },
  {
   "cell_type": "code",
   "execution_count": 29,
   "metadata": {
    "collapsed": true
   },
   "outputs": [],
   "source": [
    "import re"
   ]
  },
  {
   "cell_type": "code",
   "execution_count": 85,
   "metadata": {
    "collapsed": true
   },
   "outputs": [],
   "source": [
    "# clean the text\n",
    "\n",
    "def preprocess_text(text):\n",
    "    out = text.replace(u\"'s\", u\"\")\n",
    "    out = out.replace(u\"-\", u\" \")\n",
    "    return out"
   ]
  },
  {
   "cell_type": "code",
   "execution_count": 86,
   "metadata": {
    "collapsed": true
   },
   "outputs": [],
   "source": [
    "# extract named entities\n",
    "\n",
    "def get_named_entities(text):\n",
    "    doc = nlp(text)\n",
    "    out = [{'label':ent.label_, 'text':ent.text} for ent in doc.ents]\n",
    "    return out"
   ]
  },
  {
   "cell_type": "code",
   "execution_count": 87,
   "metadata": {
    "collapsed": false
   },
   "outputs": [],
   "source": [
    "# apply functions from above\n",
    "\n",
    "df['cleaned_text'] = df.message.apply(preprocess_text)\n",
    "df['named_entities'] = df.cleaned_text.apply(get_named_entities)"
   ]
  },
  {
   "cell_type": "code",
   "execution_count": 88,
   "metadata": {
    "collapsed": false
   },
   "outputs": [
    {
     "data": {
      "text/plain": [
       "u'For all of our coverage in the run-up to the German election visit www.dw.com/germanelections and follow the hashtag #GermanyDecides.'"
      ]
     },
     "execution_count": 88,
     "metadata": {},
     "output_type": "execute_result"
    }
   ],
   "source": [
    "df.message.iloc[3]"
   ]
  },
  {
   "cell_type": "code",
   "execution_count": 89,
   "metadata": {
    "collapsed": false
   },
   "outputs": [
    {
     "data": {
      "text/plain": [
       "u'For all of our coverage in the run up to the German election visit www.dw.com/germanelections and follow the hashtag #GermanyDecides.'"
      ]
     },
     "execution_count": 89,
     "metadata": {},
     "output_type": "execute_result"
    }
   ],
   "source": [
    "df.cleaned_text[3]"
   ]
  },
  {
   "cell_type": "code",
   "execution_count": 97,
   "metadata": {
    "collapsed": false
   },
   "outputs": [
    {
     "data": {
      "text/plain": [
       "[{'label': u'CARDINAL', 'text': u'\\n\\n'},\n",
       " {'label': u'CARDINAL', 'text': u'Six'},\n",
       " {'label': u'CARDINAL', 'text': u'two'},\n",
       " {'label': u'CARDINAL', 'text': u'one'},\n",
       " {'label': u'NORP', 'text': u'Germans'},\n",
       " {'label': u'DATE', 'text': u'2017'},\n",
       " {'label': u'PERSON', 'text': u'Sumi Somaskanda'},\n",
       " {'label': u'PERSON', 'text': u'Nina Haase'},\n",
       " {'label': u'DATE', 'text': u'this year'},\n",
       " {'label': u'ORDINAL', 'text': u'First'},\n",
       " {'label': u'GPE', 'text': u'Dresden'},\n",
       " {'label': u'ORG', 'text': u'DW News Facebook'},\n",
       " {'label': u'ORG', 'text': u'Twitter'}]"
      ]
     },
     "execution_count": 97,
     "metadata": {},
     "output_type": "execute_result"
    }
   ],
   "source": [
    "df.named_entities[0]"
   ]
  },
  {
   "cell_type": "markdown",
   "metadata": {},
   "source": [
    "Get Persons"
   ]
  },
  {
   "cell_type": "code",
   "execution_count": 91,
   "metadata": {
    "collapsed": false
   },
   "outputs": [],
   "source": [
    "df['Persons'] = df.named_entities.apply(lambda x: [ne['text'] for ne in x if ne['label'] == 'PERSON'])"
   ]
  },
  {
   "cell_type": "code",
   "execution_count": 92,
   "metadata": {
    "collapsed": false
   },
   "outputs": [
    {
     "data": {
      "text/plain": [
       "0       [Sumi Somaskanda, Nina Haase]\n",
       "1       [Sumi Somaskanda, Nina Haase]\n",
       "2                    [Alexei Navalny]\n",
       "3                                  []\n",
       "4                       [@Poroshenko]\n",
       "5                           [Theresa]\n",
       "6                                  []\n",
       "7                                  []\n",
       "8                   [Emmanuel Macron]\n",
       "9                                  []\n",
       "10                                 []\n",
       "11                    [Gero Schliess]\n",
       "12                                 []\n",
       "13                                 []\n",
       "14                                 []\n",
       "15                    [Angela Merkel]\n",
       "16                                 []\n",
       "17                  [Donald J. Trump]\n",
       "18                       [Poroshenko]\n",
       "19                                 []\n",
       "20                                 []\n",
       "21                                 []\n",
       "22                     [Erna Solberg]\n",
       "23                                 []\n",
       "24                                 []\n",
       "25                                 []\n",
       "26                                 []\n",
       "27                                 []\n",
       "28                                 []\n",
       "29                         [Facebook]\n",
       "                   ...               \n",
       "70                           [Brexit]\n",
       "71                      [James Comey]\n",
       "72                      [Europe Roma]\n",
       "73                      [Yosri Fouda]\n",
       "74                                 []\n",
       "75                                 []\n",
       "76                       [Yair Lapid]\n",
       "77                    [Johanna Quaas]\n",
       "78                                 []\n",
       "79                                 []\n",
       "80                                 []\n",
       "81                                 []\n",
       "82                                 []\n",
       "83                                 []\n",
       "84                                 []\n",
       "85                                 []\n",
       "86                             [Berg]\n",
       "87                                 []\n",
       "88                                 []\n",
       "89    [Dana Regev, Yasser Abumuailek]\n",
       "90                                 []\n",
       "91                                 []\n",
       "92            [Omran Daqneesh, Assad]\n",
       "93                                 []\n",
       "94                                 []\n",
       "95                                 []\n",
       "96                                 []\n",
       "97                                 []\n",
       "98                                 []\n",
       "99                     [Ashraf Ghani]\n",
       "Name: Persons, dtype: object"
      ]
     },
     "execution_count": 92,
     "metadata": {},
     "output_type": "execute_result"
    }
   ],
   "source": [
    "df.Persons"
   ]
  },
  {
   "cell_type": "code",
   "execution_count": 98,
   "metadata": {
    "collapsed": false
   },
   "outputs": [],
   "source": [
    "from geotext import GeoText\n",
    "import pycountry"
   ]
  },
  {
   "cell_type": "code",
   "execution_count": 95,
   "metadata": {
    "collapsed": false
   },
   "outputs": [
    {
     "name": "stdout",
     "output_type": "stream",
     "text": [
      "[u'Dresden']\n",
      "OrderedDict([('DE', 2)])\n"
     ]
    }
   ],
   "source": [
    "places = GeoText(df.cleaned_text[0])\n",
    "print places.cities\n",
    "# \"London\"\n",
    "\n",
    "print GeoText(df.cleaned_text[0]).country_mentions\n"
   ]
  },
  {
   "cell_type": "code",
   "execution_count": 96,
   "metadata": {
    "collapsed": false
   },
   "outputs": [
    {
     "data": {
      "text/plain": [
       "u\"Germany Decides: On the road to the elections\\n\\nSix cities, two reporters, one question: What matters most to Germans ahead of the 2017 federal elections? DW reporters Sumi Somaskanda and Nina Haase are hitting the road to find out. Each week they'll visit a different city or region that represents an important facet of this year big election issues. First stop is Dresden. Follow them on DW News Facebook or under the Twitter hashtag #GermanyDecides to keep up with each step on the road to the elections.\""
      ]
     },
     "execution_count": 96,
     "metadata": {},
     "output_type": "execute_result"
    }
   ],
   "source": [
    "df.cleaned_text[0]"
   ]
  },
  {
   "cell_type": "code",
   "execution_count": 71,
   "metadata": {
    "collapsed": false
   },
   "outputs": [
    {
     "data": {
      "text/plain": [
       "u'UK PM Theresa May plan to recruit Northern Ireland backers to stay in power has raised concerns in Dublin. Her cabinet reshuffle may signal a more open stance on Brexit talks with Europe.'"
      ]
     },
     "execution_count": 71,
     "metadata": {},
     "output_type": "execute_result"
    }
   ],
   "source": [
    "df.cleaned_text[3]"
   ]
  },
  {
   "cell_type": "code",
   "execution_count": 143,
   "metadata": {
    "collapsed": true
   },
   "outputs": [],
   "source": [
    "df['cities'] = df.cleaned_text.apply(lambda x: GeoText(x).cities)\n",
    "df['countries'] = df.cleaned_text.apply(lambda x: dict(GeoText(x).country_mentions))"
   ]
  },
  {
   "cell_type": "code",
   "execution_count": 144,
   "metadata": {
    "collapsed": false
   },
   "outputs": [
    {
     "data": {
      "text/plain": [
       "{'XK': 1}"
      ]
     },
     "execution_count": 144,
     "metadata": {},
     "output_type": "execute_result"
    }
   ],
   "source": [
    "df.countries[20]"
   ]
  },
  {
   "cell_type": "code",
   "execution_count": 142,
   "metadata": {
    "collapsed": true
   },
   "outputs": [],
   "source": [
    "def geotext_to_alpha_3(gt_dict):\n",
    "    '''\n",
    "    gt_od: OrderedDict from GeoText\n",
    "    \n",
    "    returns: dict including alpha_3 kuerzel\n",
    "    '''\n",
    "    out = {}\n",
    "    for k in gt_dict.keys():\n",
    "        country = pycountry.countries.get(alpha_2=k)\n",
    "        new_key = country.alpha_3\n",
    "        out[new_key] = gt_dict.pop(k)\n",
    "    return out"
   ]
  },
  {
   "cell_type": "code",
   "execution_count": 141,
   "metadata": {
    "collapsed": false
   },
   "outputs": [
    {
     "ename": "KeyError",
     "evalue": "'XK'",
     "output_type": "error",
     "traceback": [
      "\u001b[0;31m---------------------------------------------------------------------------\u001b[0m",
      "\u001b[0;31mKeyError\u001b[0m                                  Traceback (most recent call last)",
      "\u001b[0;32m<ipython-input-141-e4464fd06650>\u001b[0m in \u001b[0;36m<module>\u001b[0;34m()\u001b[0m\n\u001b[0;32m----> 1\u001b[0;31m \u001b[0mdf\u001b[0m\u001b[0;34m[\u001b[0m\u001b[0;34m'countries'\u001b[0m\u001b[0;34m]\u001b[0m \u001b[0;34m=\u001b[0m \u001b[0mdf\u001b[0m\u001b[0;34m.\u001b[0m\u001b[0mcountries\u001b[0m\u001b[0;34m.\u001b[0m\u001b[0mapply\u001b[0m\u001b[0;34m(\u001b[0m\u001b[0mgeotext_to_alpha_3\u001b[0m\u001b[0;34m)\u001b[0m\u001b[0;34m\u001b[0m\u001b[0m\n\u001b[0m",
      "\u001b[0;32m/usr/local/lib/python2.7/site-packages/pandas/core/series.pyc\u001b[0m in \u001b[0;36mapply\u001b[0;34m(self, func, convert_dtype, args, **kwds)\u001b[0m\n\u001b[1;32m   2290\u001b[0m             \u001b[0;32melse\u001b[0m\u001b[0;34m:\u001b[0m\u001b[0;34m\u001b[0m\u001b[0m\n\u001b[1;32m   2291\u001b[0m                 \u001b[0mvalues\u001b[0m \u001b[0;34m=\u001b[0m \u001b[0mself\u001b[0m\u001b[0;34m.\u001b[0m\u001b[0masobject\u001b[0m\u001b[0;34m\u001b[0m\u001b[0m\n\u001b[0;32m-> 2292\u001b[0;31m                 \u001b[0mmapped\u001b[0m \u001b[0;34m=\u001b[0m \u001b[0mlib\u001b[0m\u001b[0;34m.\u001b[0m\u001b[0mmap_infer\u001b[0m\u001b[0;34m(\u001b[0m\u001b[0mvalues\u001b[0m\u001b[0;34m,\u001b[0m \u001b[0mf\u001b[0m\u001b[0;34m,\u001b[0m \u001b[0mconvert\u001b[0m\u001b[0;34m=\u001b[0m\u001b[0mconvert_dtype\u001b[0m\u001b[0;34m)\u001b[0m\u001b[0;34m\u001b[0m\u001b[0m\n\u001b[0m\u001b[1;32m   2293\u001b[0m \u001b[0;34m\u001b[0m\u001b[0m\n\u001b[1;32m   2294\u001b[0m         \u001b[0;32mif\u001b[0m \u001b[0mlen\u001b[0m\u001b[0;34m(\u001b[0m\u001b[0mmapped\u001b[0m\u001b[0;34m)\u001b[0m \u001b[0;32mand\u001b[0m \u001b[0misinstance\u001b[0m\u001b[0;34m(\u001b[0m\u001b[0mmapped\u001b[0m\u001b[0;34m[\u001b[0m\u001b[0;36m0\u001b[0m\u001b[0;34m]\u001b[0m\u001b[0;34m,\u001b[0m \u001b[0mSeries\u001b[0m\u001b[0;34m)\u001b[0m\u001b[0;34m:\u001b[0m\u001b[0;34m\u001b[0m\u001b[0m\n",
      "\u001b[0;32mpandas/src/inference.pyx\u001b[0m in \u001b[0;36mpandas.lib.map_infer (pandas/lib.c:63307)\u001b[0;34m()\u001b[0m\n",
      "\u001b[0;32m<ipython-input-140-ba0cf0014abf>\u001b[0m in \u001b[0;36mgeotext_to_alpha_3\u001b[0;34m(gt_dict)\u001b[0m\n\u001b[1;32m      7\u001b[0m     \u001b[0mout\u001b[0m \u001b[0;34m=\u001b[0m \u001b[0;34m{\u001b[0m\u001b[0;34m}\u001b[0m\u001b[0;34m\u001b[0m\u001b[0m\n\u001b[1;32m      8\u001b[0m     \u001b[0;32mfor\u001b[0m \u001b[0mk\u001b[0m \u001b[0;32min\u001b[0m \u001b[0mgt_dict\u001b[0m\u001b[0;34m.\u001b[0m\u001b[0mkeys\u001b[0m\u001b[0;34m(\u001b[0m\u001b[0;34m)\u001b[0m\u001b[0;34m:\u001b[0m\u001b[0;34m\u001b[0m\u001b[0m\n\u001b[0;32m----> 9\u001b[0;31m         \u001b[0mcountry\u001b[0m \u001b[0;34m=\u001b[0m \u001b[0mpycountry\u001b[0m\u001b[0;34m.\u001b[0m\u001b[0mcountries\u001b[0m\u001b[0;34m.\u001b[0m\u001b[0mget\u001b[0m\u001b[0;34m(\u001b[0m\u001b[0malpha_2\u001b[0m\u001b[0;34m=\u001b[0m\u001b[0mk\u001b[0m\u001b[0;34m)\u001b[0m\u001b[0;34m\u001b[0m\u001b[0m\n\u001b[0m\u001b[1;32m     10\u001b[0m         \u001b[0mnew_key\u001b[0m \u001b[0;34m=\u001b[0m \u001b[0mcountry\u001b[0m\u001b[0;34m.\u001b[0m\u001b[0malpha_3\u001b[0m\u001b[0;34m\u001b[0m\u001b[0m\n\u001b[1;32m     11\u001b[0m         \u001b[0mout\u001b[0m\u001b[0;34m[\u001b[0m\u001b[0mnew_key\u001b[0m\u001b[0;34m]\u001b[0m \u001b[0;34m=\u001b[0m \u001b[0mgt_dict\u001b[0m\u001b[0;34m.\u001b[0m\u001b[0mpop\u001b[0m\u001b[0;34m(\u001b[0m\u001b[0mk\u001b[0m\u001b[0;34m)\u001b[0m\u001b[0;34m\u001b[0m\u001b[0m\n",
      "\u001b[0;32m/usr/local/lib/python2.7/site-packages/pycountry/db.pyc\u001b[0m in \u001b[0;36mload_if_needed\u001b[0;34m(self, *args, **kw)\u001b[0m\n\u001b[1;32m     41\u001b[0m         \u001b[0;32mif\u001b[0m \u001b[0;32mnot\u001b[0m \u001b[0mself\u001b[0m\u001b[0;34m.\u001b[0m\u001b[0m_is_loaded\u001b[0m\u001b[0;34m:\u001b[0m\u001b[0;34m\u001b[0m\u001b[0m\n\u001b[1;32m     42\u001b[0m             \u001b[0mself\u001b[0m\u001b[0;34m.\u001b[0m\u001b[0m_load\u001b[0m\u001b[0;34m(\u001b[0m\u001b[0;34m)\u001b[0m\u001b[0;34m\u001b[0m\u001b[0m\n\u001b[0;32m---> 43\u001b[0;31m         \u001b[0;32mreturn\u001b[0m \u001b[0mf\u001b[0m\u001b[0;34m(\u001b[0m\u001b[0mself\u001b[0m\u001b[0;34m,\u001b[0m \u001b[0;34m*\u001b[0m\u001b[0margs\u001b[0m\u001b[0;34m,\u001b[0m \u001b[0;34m**\u001b[0m\u001b[0mkw\u001b[0m\u001b[0;34m)\u001b[0m\u001b[0;34m\u001b[0m\u001b[0m\n\u001b[0m\u001b[1;32m     44\u001b[0m     \u001b[0;32mreturn\u001b[0m \u001b[0mload_if_needed\u001b[0m\u001b[0;34m\u001b[0m\u001b[0m\n\u001b[1;32m     45\u001b[0m \u001b[0;34m\u001b[0m\u001b[0m\n",
      "\u001b[0;32m/usr/local/lib/python2.7/site-packages/pycountry/db.pyc\u001b[0m in \u001b[0;36mget\u001b[0;34m(self, **kw)\u001b[0m\n\u001b[1;32m     99\u001b[0m             \u001b[0;32mraise\u001b[0m \u001b[0mTypeError\u001b[0m\u001b[0;34m(\u001b[0m\u001b[0;34m'Only one criteria may be given'\u001b[0m\u001b[0;34m)\u001b[0m\u001b[0;34m\u001b[0m\u001b[0m\n\u001b[1;32m    100\u001b[0m         \u001b[0mfield\u001b[0m\u001b[0;34m,\u001b[0m \u001b[0mvalue\u001b[0m \u001b[0;34m=\u001b[0m \u001b[0mkw\u001b[0m\u001b[0;34m.\u001b[0m\u001b[0mpopitem\u001b[0m\u001b[0;34m(\u001b[0m\u001b[0;34m)\u001b[0m\u001b[0;34m\u001b[0m\u001b[0m\n\u001b[0;32m--> 101\u001b[0;31m         \u001b[0;32mreturn\u001b[0m \u001b[0mself\u001b[0m\u001b[0;34m.\u001b[0m\u001b[0mindices\u001b[0m\u001b[0;34m[\u001b[0m\u001b[0mfield\u001b[0m\u001b[0;34m]\u001b[0m\u001b[0;34m[\u001b[0m\u001b[0mvalue\u001b[0m\u001b[0;34m]\u001b[0m\u001b[0;34m\u001b[0m\u001b[0m\n\u001b[0m\u001b[1;32m    102\u001b[0m \u001b[0;34m\u001b[0m\u001b[0m\n\u001b[1;32m    103\u001b[0m     \u001b[0;34m@\u001b[0m\u001b[0mlazy_load\u001b[0m\u001b[0;34m\u001b[0m\u001b[0m\n",
      "\u001b[0;31mKeyError\u001b[0m: 'XK'"
     ]
    }
   ],
   "source": [
    "# df['countries'] = df.countries.apply(geotext_to_alpha_3)"
   ]
  },
  {
   "cell_type": "code",
   "execution_count": 147,
   "metadata": {
    "collapsed": true
   },
   "outputs": [],
   "source": [
    "pd.options.display.max_colwidth=200"
   ]
  },
  {
   "cell_type": "code",
   "execution_count": 150,
   "metadata": {
    "collapsed": false
   },
   "outputs": [
    {
     "data": {
      "text/html": [
       "<div>\n",
       "<table border=\"1\" class=\"dataframe\">\n",
       "  <thead>\n",
       "    <tr style=\"text-align: right;\">\n",
       "      <th></th>\n",
       "      <th>cleaned_text</th>\n",
       "      <th>named_entities</th>\n",
       "    </tr>\n",
       "  </thead>\n",
       "  <tbody>\n",
       "    <tr>\n",
       "      <th>0</th>\n",
       "      <td>Germany Decides: On the road to the elections\\n\\nSix cities, two reporters, one question: What matters most to Germans ahead of the 2017 federal elections? DW reporters Sumi Somaskanda and Nina Ha...</td>\n",
       "      <td>[{u'text': u'\n",
       "\n",
       "', u'label': u'CARDINAL'}, {u'text': u'Six', u'label': u'CARDINAL'}, {u'text': u'two', u'label': u'CARDINAL'}, {u'text': u'one', u'label': u'CARDINAL'}, {u'text': u'Germans', u'labe...</td>\n",
       "    </tr>\n",
       "    <tr>\n",
       "      <th>1</th>\n",
       "      <td>Six cities, two reporters, one question: What matters most to Germans ahead of the 2017 federal elections? Sumi Somaskanda and Nina Haase are hitting the road to find out. Tune in to our Facebook ...</td>\n",
       "      <td>[{u'text': u'Six', u'label': u'CARDINAL'}, {u'text': u'two', u'label': u'CARDINAL'}, {u'text': u'one', u'label': u'CARDINAL'}, {u'text': u'Germans', u'label': u'NORP'}, {u'text': u'2017', u'label'...</td>\n",
       "    </tr>\n",
       "    <tr>\n",
       "      <th>2</th>\n",
       "      <td>UPDATE: Russian opposition leader Alexei Navalny arrested ahead of anti Kremlin protests. Supporters of Putin critic Navalny are expected to mark Monday public holiday with over 200 rallies nation...</td>\n",
       "      <td>[{u'text': u'Russian', u'label': u'NORP'}, {u'text': u'Alexei Navalny', u'label': u'PERSON'}, {u'text': u'Kremlin', u'label': u'ORG'}, {u'text': u'Putin', u'label': u'GPE'}, {u'text': u'Navalny', ...</td>\n",
       "    </tr>\n",
       "    <tr>\n",
       "      <th>3</th>\n",
       "      <td>For all of our coverage in the run up to the German election visit www.dw.com/germanelections and follow the hashtag #GermanyDecides.</td>\n",
       "      <td>[{u'text': u'German', u'label': u'NORP'}, {u'text': u'GermanyDecides', u'label': u'ORG'}]</td>\n",
       "    </tr>\n",
       "    <tr>\n",
       "      <th>4</th>\n",
       "      <td>Cheering, hundreds entered the EU in what President @Poroshenko called a symbolic \"final breakaway\" from Moscow.</td>\n",
       "      <td>[{u'text': u'hundreds', u'label': u'CARDINAL'}, {u'text': u'EU', u'label': u'ORG'}, {u'text': u'@Poroshenko', u'label': u'PERSON'}, {u'text': u'Moscow', u'label': u'GPE'}]</td>\n",
       "    </tr>\n",
       "    <tr>\n",
       "      <th>5</th>\n",
       "      <td>UK PM Theresa May plan to recruit Northern Ireland backers to stay in power has raised concerns in Dublin. Her cabinet reshuffle may signal a more open stance on Brexit talks with Europe.</td>\n",
       "      <td>[{u'text': u'UK', u'label': u'GPE'}, {u'text': u'Theresa', u'label': u'PERSON'}, {u'text': u'Northern Ireland', u'label': u'LOC'}, {u'text': u'Dublin', u'label': u'GPE'}, {u'text': u'Brexit', u'la...</td>\n",
       "    </tr>\n",
       "    <tr>\n",
       "      <th>6</th>\n",
       "      <td>The first bicycle ride took place 200 years ago.\\n\\nAny idea where? 🚲</td>\n",
       "      <td>[{u'text': u'first', u'label': u'ORDINAL'}, {u'text': u'200 years ago', u'label': u'DATE'}]</td>\n",
       "    </tr>\n",
       "    <tr>\n",
       "      <th>7</th>\n",
       "      <td>Foreigners released from prison in Peru aren't always free to leave the country; it takes them more than six months to get their exit papers and leaves them prone to more problems.</td>\n",
       "      <td>[{u'text': u'Peru', u'label': u'GPE'}, {u'text': u'more than six months', u'label': u'DATE'}]</td>\n",
       "    </tr>\n",
       "    <tr>\n",
       "      <th>8</th>\n",
       "      <td>Preliminary results have shown French President Emmanuel Macron political startup well ahead of traditional parties with over 30 percent in the first round of voting. The center right Republicans ...</td>\n",
       "      <td>[{u'text': u'French', u'label': u'NORP'}, {u'text': u'Emmanuel Macron', u'label': u'PERSON'}, {u'text': u'over 30 percent', u'label': u'PERCENT'}, {u'text': u'first', u'label': u'ORDINAL'}, {u'tex...</td>\n",
       "    </tr>\n",
       "    <tr>\n",
       "      <th>9</th>\n",
       "      <td>June 12 marks the World Day Against Child Labour.</td>\n",
       "      <td>[{u'text': u'June 12', u'label': u'DATE'}, {u'text': u'the World Day Against', u'label': u'ORG'}]</td>\n",
       "    </tr>\n",
       "    <tr>\n",
       "      <th>10</th>\n",
       "      <td>🤔</td>\n",
       "      <td>[]</td>\n",
       "    </tr>\n",
       "    <tr>\n",
       "      <th>11</th>\n",
       "      <td>Inconsiderate gestures are annoying and make many people life difficult. DW columnist Gero Schliess has noticed several ways Berlin could show it cares more for others.</td>\n",
       "      <td>[{u'text': u'Gero Schliess', u'label': u'PERSON'}, {u'text': u'Berlin', u'label': u'GPE'}]</td>\n",
       "    </tr>\n",
       "    <tr>\n",
       "      <th>12</th>\n",
       "      <td>Scientists say fossils unearthed in Morocco show early Homo sapiens roamed Africa 100,000 years earlier than previously thought.</td>\n",
       "      <td>[{u'text': u'Morocco', u'label': u'GPE'}, {u'text': u'Africa', u'label': u'LOC'}, {u'text': u'100,000 years earlier', u'label': u'DATE'}]</td>\n",
       "    </tr>\n",
       "    <tr>\n",
       "      <th>13</th>\n",
       "      <td>It could be the start of a new green energy transition in Jordan.</td>\n",
       "      <td>[{u'text': u'Jordan', u'label': u'GPE'}]</td>\n",
       "    </tr>\n",
       "    <tr>\n",
       "      <th>14</th>\n",
       "      <td>Germany has one of the most opaque lobbying systems in the industrialized world, according to LobbyControl. \\n\\nHere how lobbyists gain their influence.</td>\n",
       "      <td>[{u'text': u'Germany', u'label': u'GPE'}, {u'text': u'one', u'label': u'CARDINAL'}, {u'text': u'LobbyControl', u'label': u'ORG'}]</td>\n",
       "    </tr>\n",
       "    <tr>\n",
       "      <th>15</th>\n",
       "      <td>Angela Merkel avoided talking about  her new label as \"leader of the free world.\"\\n\\nThere a good reason for that, DW Michaela Küfner writes.</td>\n",
       "      <td>[{u'text': u'Angela Merkel', u'label': u'PERSON'}, {u'text': u'DW Michaela Küfner', u'label': u'ORG'}]</td>\n",
       "    </tr>\n",
       "    <tr>\n",
       "      <th>16</th>\n",
       "      <td>Qatar was importing 80 percent of its food from bigger Gulf Arab neighbors before the diplomatic crisis.</td>\n",
       "      <td>[{u'text': u'Qatar', u'label': u'GPE'}, {u'text': u'80 percent', u'label': u'PERCENT'}, {u'text': u'Gulf', u'label': u'LOC'}, {u'text': u'Arab', u'label': u'NORP'}]</td>\n",
       "    </tr>\n",
       "    <tr>\n",
       "      <th>17</th>\n",
       "      <td>It could take a while, Donald J. Trump.</td>\n",
       "      <td>[{u'text': u'Donald J. Trump', u'label': u'PERSON'}]</td>\n",
       "    </tr>\n",
       "    <tr>\n",
       "      <th>18</th>\n",
       "      <td>President Poroshenko called it a symbolic \"final breakaway\" from Russia.</td>\n",
       "      <td>[{u'text': u'Poroshenko', u'label': u'PERSON'}, {u'text': u'Russia', u'label': u'GPE'}]</td>\n",
       "    </tr>\n",
       "    <tr>\n",
       "      <th>19</th>\n",
       "      <td>Activists say a \"political witch hunt\" is ongoing in the country.</td>\n",
       "      <td>[]</td>\n",
       "    </tr>\n",
       "    <tr>\n",
       "      <th>20</th>\n",
       "      <td>Kosovo is heading to the polls today.\\n\\nHere what at stake.</td>\n",
       "      <td>[{u'text': u'Kosovo', u'label': u'GPE'}, {u'text': u'today', u'label': u'DATE'}]</td>\n",
       "    </tr>\n",
       "    <tr>\n",
       "      <th>21</th>\n",
       "      <td>\"If sharks go extinct, it would disrupt the whole ocean diversity.\"\\n\\nProtesters in Hong Kong call to stop the sale of shark meat, considered a status symbol in China.</td>\n",
       "      <td>[{u'text': u'Hong Kong', u'label': u'GPE'}, {u'text': u'China', u'label': u'GPE'}]</td>\n",
       "    </tr>\n",
       "    <tr>\n",
       "      <th>22</th>\n",
       "      <td>Prime Minister Erna Solberg added she fully backed the European Union sanctions against Moscow.</td>\n",
       "      <td>[{u'text': u'Erna Solberg', u'label': u'PERSON'}, {u'text': u'the European Union', u'label': u'ORG'}, {u'text': u'Moscow', u'label': u'GPE'}]</td>\n",
       "    </tr>\n",
       "    <tr>\n",
       "      <th>23</th>\n",
       "      <td>Nearly 16 million people need urgent assistance.</td>\n",
       "      <td>[{u'text': u'Nearly 16 million', u'label': u'CARDINAL'}]</td>\n",
       "    </tr>\n",
       "    <tr>\n",
       "      <th>24</th>\n",
       "      <td>IN PICTURES\\n\\n10 very German passions p.dw.com/p/2bTKQ</td>\n",
       "      <td>[{u'text': u'10', u'label': u'CARDINAL'}, {u'text': u'German', u'label': u'NORP'}]</td>\n",
       "    </tr>\n",
       "    <tr>\n",
       "      <th>25</th>\n",
       "      <td>The ancient Greeks and Romans used snails for beauty treatments. Now 2,000 years on, snail farming is flourishing in Italy thanks to a new craze for slime based skincare and health products.</td>\n",
       "      <td>[{u'text': u'Greeks', u'label': u'NORP'}, {u'text': u'Romans', u'label': u'NORP'}, {u'text': u'2,000 years', u'label': u'DATE'}, {u'text': u'Italy', u'label': u'GPE'}]</td>\n",
       "    </tr>\n",
       "    <tr>\n",
       "      <th>26</th>\n",
       "      <td>Plastic pollution and overfishing may currently be in the headlines. But rising CO2 emissions are also a key threat to the ocean that covers 71 percent of the planet, and a major challenge for fut...</td>\n",
       "      <td>[{u'text': u'71 percent', u'label': u'PERCENT'}, {u'text': u'Earth', u'label': u'LOC'}]</td>\n",
       "    </tr>\n",
       "    <tr>\n",
       "      <th>27</th>\n",
       "      <td>IN PICTURES\\n\\n10 reasons to visit Dresden p.dw.com/p/2arrv</td>\n",
       "      <td>[{u'text': u'10', u'label': u'CARDINAL'}, {u'text': u'Dresden', u'label': u'GPE'}]</td>\n",
       "    </tr>\n",
       "    <tr>\n",
       "      <th>28</th>\n",
       "      <td>China takes the fight against climate change seriously.</td>\n",
       "      <td>[{u'text': u'China', u'label': u'GPE'}]</td>\n",
       "    </tr>\n",
       "    <tr>\n",
       "      <th>29</th>\n",
       "      <td>You already get them through Amazon and on Facebook. Now ads tailored to certain demographics are coming to supermarkets and the post office. Cool new technology or invasion of privacy?</td>\n",
       "      <td>[{u'text': u'Amazon', u'label': u'GPE'}, {u'text': u'Facebook', u'label': u'PERSON'}]</td>\n",
       "    </tr>\n",
       "  </tbody>\n",
       "</table>\n",
       "</div>"
      ],
      "text/plain": [
       "                                                                                                                                                                                               cleaned_text  \\\n",
       "0   Germany Decides: On the road to the elections\\n\\nSix cities, two reporters, one question: What matters most to Germans ahead of the 2017 federal elections? DW reporters Sumi Somaskanda and Nina Ha...   \n",
       "1   Six cities, two reporters, one question: What matters most to Germans ahead of the 2017 federal elections? Sumi Somaskanda and Nina Haase are hitting the road to find out. Tune in to our Facebook ...   \n",
       "2   UPDATE: Russian opposition leader Alexei Navalny arrested ahead of anti Kremlin protests. Supporters of Putin critic Navalny are expected to mark Monday public holiday with over 200 rallies nation...   \n",
       "3                                                                     For all of our coverage in the run up to the German election visit www.dw.com/germanelections and follow the hashtag #GermanyDecides.   \n",
       "4                                                                                          Cheering, hundreds entered the EU in what President @Poroshenko called a symbolic \"final breakaway\" from Moscow.   \n",
       "5               UK PM Theresa May plan to recruit Northern Ireland backers to stay in power has raised concerns in Dublin. Her cabinet reshuffle may signal a more open stance on Brexit talks with Europe.   \n",
       "6                                                                                                                                    The first bicycle ride took place 200 years ago.\\n\\nAny idea where? 🚲   \n",
       "7                      Foreigners released from prison in Peru aren't always free to leave the country; it takes them more than six months to get their exit papers and leaves them prone to more problems.   \n",
       "8   Preliminary results have shown French President Emmanuel Macron political startup well ahead of traditional parties with over 30 percent in the first round of voting. The center right Republicans ...   \n",
       "9                                                                                                                                                         June 12 marks the World Day Against Child Labour.   \n",
       "10                                                                                                                                                                                                       🤔   \n",
       "11                                 Inconsiderate gestures are annoying and make many people life difficult. DW columnist Gero Schliess has noticed several ways Berlin could show it cares more for others.   \n",
       "12                                                                         Scientists say fossils unearthed in Morocco show early Homo sapiens roamed Africa 100,000 years earlier than previously thought.   \n",
       "13                                                                                                                                        It could be the start of a new green energy transition in Jordan.   \n",
       "14                                                 Germany has one of the most opaque lobbying systems in the industrialized world, according to LobbyControl. \\n\\nHere how lobbyists gain their influence.   \n",
       "15                                                            Angela Merkel avoided talking about  her new label as \"leader of the free world.\"\\n\\nThere a good reason for that, DW Michaela Küfner writes.   \n",
       "16                                                                                                 Qatar was importing 80 percent of its food from bigger Gulf Arab neighbors before the diplomatic crisis.   \n",
       "17                                                                                                                                                                  It could take a while, Donald J. Trump.   \n",
       "18                                                                                                                                 President Poroshenko called it a symbolic \"final breakaway\" from Russia.   \n",
       "19                                                                                                                                        Activists say a \"political witch hunt\" is ongoing in the country.   \n",
       "20                                                                                                                                             Kosovo is heading to the polls today.\\n\\nHere what at stake.   \n",
       "21                                 \"If sharks go extinct, it would disrupt the whole ocean diversity.\"\\n\\nProtesters in Hong Kong call to stop the sale of shark meat, considered a status symbol in China.   \n",
       "22                                                                                                          Prime Minister Erna Solberg added she fully backed the European Union sanctions against Moscow.   \n",
       "23                                                                                                                                                         Nearly 16 million people need urgent assistance.   \n",
       "24                                                                                                                                                  IN PICTURES\\n\\n10 very German passions p.dw.com/p/2bTKQ   \n",
       "25           The ancient Greeks and Romans used snails for beauty treatments. Now 2,000 years on, snail farming is flourishing in Italy thanks to a new craze for slime based skincare and health products.   \n",
       "26  Plastic pollution and overfishing may currently be in the headlines. But rising CO2 emissions are also a key threat to the ocean that covers 71 percent of the planet, and a major challenge for fut...   \n",
       "27                                                                                                                                              IN PICTURES\\n\\n10 reasons to visit Dresden p.dw.com/p/2arrv   \n",
       "28                                                                                                                                                  China takes the fight against climate change seriously.   \n",
       "29                You already get them through Amazon and on Facebook. Now ads tailored to certain demographics are coming to supermarkets and the post office. Cool new technology or invasion of privacy?   \n",
       "\n",
       "                                                                                                                                                                                             named_entities  \n",
       "0   [{u'text': u'\n",
       "\n",
       "', u'label': u'CARDINAL'}, {u'text': u'Six', u'label': u'CARDINAL'}, {u'text': u'two', u'label': u'CARDINAL'}, {u'text': u'one', u'label': u'CARDINAL'}, {u'text': u'Germans', u'labe...  \n",
       "1   [{u'text': u'Six', u'label': u'CARDINAL'}, {u'text': u'two', u'label': u'CARDINAL'}, {u'text': u'one', u'label': u'CARDINAL'}, {u'text': u'Germans', u'label': u'NORP'}, {u'text': u'2017', u'label'...  \n",
       "2   [{u'text': u'Russian', u'label': u'NORP'}, {u'text': u'Alexei Navalny', u'label': u'PERSON'}, {u'text': u'Kremlin', u'label': u'ORG'}, {u'text': u'Putin', u'label': u'GPE'}, {u'text': u'Navalny', ...  \n",
       "3                                                                                                                 [{u'text': u'German', u'label': u'NORP'}, {u'text': u'GermanyDecides', u'label': u'ORG'}]  \n",
       "4                               [{u'text': u'hundreds', u'label': u'CARDINAL'}, {u'text': u'EU', u'label': u'ORG'}, {u'text': u'@Poroshenko', u'label': u'PERSON'}, {u'text': u'Moscow', u'label': u'GPE'}]  \n",
       "5   [{u'text': u'UK', u'label': u'GPE'}, {u'text': u'Theresa', u'label': u'PERSON'}, {u'text': u'Northern Ireland', u'label': u'LOC'}, {u'text': u'Dublin', u'label': u'GPE'}, {u'text': u'Brexit', u'la...  \n",
       "6                                                                                                               [{u'text': u'first', u'label': u'ORDINAL'}, {u'text': u'200 years ago', u'label': u'DATE'}]  \n",
       "7                                                                                                             [{u'text': u'Peru', u'label': u'GPE'}, {u'text': u'more than six months', u'label': u'DATE'}]  \n",
       "8   [{u'text': u'French', u'label': u'NORP'}, {u'text': u'Emmanuel Macron', u'label': u'PERSON'}, {u'text': u'over 30 percent', u'label': u'PERCENT'}, {u'text': u'first', u'label': u'ORDINAL'}, {u'tex...  \n",
       "9                                                                                                         [{u'text': u'June 12', u'label': u'DATE'}, {u'text': u'the World Day Against', u'label': u'ORG'}]  \n",
       "10                                                                                                                                                                                                       []  \n",
       "11                                                                                                               [{u'text': u'Gero Schliess', u'label': u'PERSON'}, {u'text': u'Berlin', u'label': u'GPE'}]  \n",
       "12                                                                [{u'text': u'Morocco', u'label': u'GPE'}, {u'text': u'Africa', u'label': u'LOC'}, {u'text': u'100,000 years earlier', u'label': u'DATE'}]  \n",
       "13                                                                                                                                                                 [{u'text': u'Jordan', u'label': u'GPE'}]  \n",
       "14                                                                        [{u'text': u'Germany', u'label': u'GPE'}, {u'text': u'one', u'label': u'CARDINAL'}, {u'text': u'LobbyControl', u'label': u'ORG'}]  \n",
       "15                                                                                                   [{u'text': u'Angela Merkel', u'label': u'PERSON'}, {u'text': u'DW Michaela Küfner', u'label': u'ORG'}]  \n",
       "16                                     [{u'text': u'Qatar', u'label': u'GPE'}, {u'text': u'80 percent', u'label': u'PERCENT'}, {u'text': u'Gulf', u'label': u'LOC'}, {u'text': u'Arab', u'label': u'NORP'}]  \n",
       "17                                                                                                                                                     [{u'text': u'Donald J. Trump', u'label': u'PERSON'}]  \n",
       "18                                                                                                                  [{u'text': u'Poroshenko', u'label': u'PERSON'}, {u'text': u'Russia', u'label': u'GPE'}]  \n",
       "19                                                                                                                                                                                                       []  \n",
       "20                                                                                                                         [{u'text': u'Kosovo', u'label': u'GPE'}, {u'text': u'today', u'label': u'DATE'}]  \n",
       "21                                                                                                                       [{u'text': u'Hong Kong', u'label': u'GPE'}, {u'text': u'China', u'label': u'GPE'}]  \n",
       "22                                                            [{u'text': u'Erna Solberg', u'label': u'PERSON'}, {u'text': u'the European Union', u'label': u'ORG'}, {u'text': u'Moscow', u'label': u'GPE'}]  \n",
       "23                                                                                                                                                 [{u'text': u'Nearly 16 million', u'label': u'CARDINAL'}]  \n",
       "24                                                                                                                       [{u'text': u'10', u'label': u'CARDINAL'}, {u'text': u'German', u'label': u'NORP'}]  \n",
       "25                                  [{u'text': u'Greeks', u'label': u'NORP'}, {u'text': u'Romans', u'label': u'NORP'}, {u'text': u'2,000 years', u'label': u'DATE'}, {u'text': u'Italy', u'label': u'GPE'}]  \n",
       "26                                                                                                                  [{u'text': u'71 percent', u'label': u'PERCENT'}, {u'text': u'Earth', u'label': u'LOC'}]  \n",
       "27                                                                                                                       [{u'text': u'10', u'label': u'CARDINAL'}, {u'text': u'Dresden', u'label': u'GPE'}]  \n",
       "28                                                                                                                                                                  [{u'text': u'China', u'label': u'GPE'}]  \n",
       "29                                                                                                                    [{u'text': u'Amazon', u'label': u'GPE'}, {u'text': u'Facebook', u'label': u'PERSON'}]  "
      ]
     },
     "execution_count": 150,
     "metadata": {},
     "output_type": "execute_result"
    }
   ],
   "source": [
    "df[['cleaned_text', 'named_entities']].head(30)"
   ]
  },
  {
   "cell_type": "code",
   "execution_count": 145,
   "metadata": {
    "collapsed": false
   },
   "outputs": [
    {
     "data": {
      "text/html": [
       "<div>\n",
       "<table border=\"1\" class=\"dataframe\">\n",
       "  <thead>\n",
       "    <tr style=\"text-align: right;\">\n",
       "      <th></th>\n",
       "      <th>created_time</th>\n",
       "      <th>id</th>\n",
       "      <th>message</th>\n",
       "      <th>story</th>\n",
       "      <th>time</th>\n",
       "      <th>cleaned_text</th>\n",
       "      <th>named_entities</th>\n",
       "      <th>Persons</th>\n",
       "      <th>cities</th>\n",
       "      <th>countries</th>\n",
       "      <th>countries_3</th>\n",
       "    </tr>\n",
       "  </thead>\n",
       "  <tbody>\n",
       "    <tr>\n",
       "      <th>95</th>\n",
       "      <td>2017-06-07T09:50:46+0000</td>\n",
       "      <td>24369314439_10154927706699440</td>\n",
       "      <td>This is what the refugee crisis looks like thr...</td>\n",
       "      <td>NaN</td>\n",
       "      <td>2017-06-07 09:50:46</td>\n",
       "      <td>This is what the refugee crisis looks like thr...</td>\n",
       "      <td>[]</td>\n",
       "      <td>[]</td>\n",
       "      <td>[]</td>\n",
       "      <td>{}</td>\n",
       "      <td>{}</td>\n",
       "    </tr>\n",
       "    <tr>\n",
       "      <th>96</th>\n",
       "      <td>2017-06-07T08:50:16+0000</td>\n",
       "      <td>24369314439_10154927584724440</td>\n",
       "      <td>The base could be moved from Turkey to Jordan.</td>\n",
       "      <td>NaN</td>\n",
       "      <td>2017-06-07 08:50:16</td>\n",
       "      <td>The base could be moved from Turkey to Jordan.</td>\n",
       "      <td>[{u'text': u'Turkey', u'label': u'GPE'}, {u'te...</td>\n",
       "      <td>[]</td>\n",
       "      <td>[]</td>\n",
       "      <td>{u'JO': 1, u'TR': 1}</td>\n",
       "      <td>{u'DEU': 1}</td>\n",
       "    </tr>\n",
       "    <tr>\n",
       "      <th>97</th>\n",
       "      <td>2017-06-07T07:50:23+0000</td>\n",
       "      <td>24369314439_10154927366039440</td>\n",
       "      <td>Think the diplomatic crisis between Qatar and ...</td>\n",
       "      <td>NaN</td>\n",
       "      <td>2017-06-07 07:50:23</td>\n",
       "      <td>Think the diplomatic crisis between Qatar and ...</td>\n",
       "      <td>[{u'text': u'Qatar', u'label': u'GPE'}, {u'tex...</td>\n",
       "      <td>[]</td>\n",
       "      <td>[]</td>\n",
       "      <td>{u'QA': 1}</td>\n",
       "      <td>{u'DEU': 1}</td>\n",
       "    </tr>\n",
       "    <tr>\n",
       "      <th>98</th>\n",
       "      <td>2017-06-07T06:47:04+0000</td>\n",
       "      <td>24369314439_10154927267849440</td>\n",
       "      <td>BREAKING</td>\n",
       "      <td>NaN</td>\n",
       "      <td>2017-06-07 06:47:04</td>\n",
       "      <td>BREAKING</td>\n",
       "      <td>[]</td>\n",
       "      <td>[]</td>\n",
       "      <td>[]</td>\n",
       "      <td>{}</td>\n",
       "      <td>{}</td>\n",
       "    </tr>\n",
       "    <tr>\n",
       "      <th>99</th>\n",
       "      <td>2017-06-07T05:50:59+0000</td>\n",
       "      <td>24369314439_10154927167894440</td>\n",
       "      <td>The Taliban it will \"face consequences\" if it ...</td>\n",
       "      <td>NaN</td>\n",
       "      <td>2017-06-07 05:50:59</td>\n",
       "      <td>The Taliban it will \"face consequences\" if it ...</td>\n",
       "      <td>[{u'text': u'Taliban', u'label': u'ORG'}, {u't...</td>\n",
       "      <td>[Ashraf Ghani]</td>\n",
       "      <td>[]</td>\n",
       "      <td>{}</td>\n",
       "      <td>{}</td>\n",
       "    </tr>\n",
       "  </tbody>\n",
       "</table>\n",
       "</div>"
      ],
      "text/plain": [
       "                created_time                             id  \\\n",
       "95  2017-06-07T09:50:46+0000  24369314439_10154927706699440   \n",
       "96  2017-06-07T08:50:16+0000  24369314439_10154927584724440   \n",
       "97  2017-06-07T07:50:23+0000  24369314439_10154927366039440   \n",
       "98  2017-06-07T06:47:04+0000  24369314439_10154927267849440   \n",
       "99  2017-06-07T05:50:59+0000  24369314439_10154927167894440   \n",
       "\n",
       "                                              message story  \\\n",
       "95  This is what the refugee crisis looks like thr...   NaN   \n",
       "96     The base could be moved from Turkey to Jordan.   NaN   \n",
       "97  Think the diplomatic crisis between Qatar and ...   NaN   \n",
       "98                                           BREAKING   NaN   \n",
       "99  The Taliban it will \"face consequences\" if it ...   NaN   \n",
       "\n",
       "                  time                                       cleaned_text  \\\n",
       "95 2017-06-07 09:50:46  This is what the refugee crisis looks like thr...   \n",
       "96 2017-06-07 08:50:16     The base could be moved from Turkey to Jordan.   \n",
       "97 2017-06-07 07:50:23  Think the diplomatic crisis between Qatar and ...   \n",
       "98 2017-06-07 06:47:04                                           BREAKING   \n",
       "99 2017-06-07 05:50:59  The Taliban it will \"face consequences\" if it ...   \n",
       "\n",
       "                                       named_entities         Persons cities  \\\n",
       "95                                                 []              []     []   \n",
       "96  [{u'text': u'Turkey', u'label': u'GPE'}, {u'te...              []     []   \n",
       "97  [{u'text': u'Qatar', u'label': u'GPE'}, {u'tex...              []     []   \n",
       "98                                                 []              []     []   \n",
       "99  [{u'text': u'Taliban', u'label': u'ORG'}, {u't...  [Ashraf Ghani]     []   \n",
       "\n",
       "               countries  countries_3  \n",
       "95                    {}           {}  \n",
       "96  {u'JO': 1, u'TR': 1}  {u'DEU': 1}  \n",
       "97            {u'QA': 1}  {u'DEU': 1}  \n",
       "98                    {}           {}  \n",
       "99                    {}           {}  "
      ]
     },
     "execution_count": 145,
     "metadata": {},
     "output_type": "execute_result"
    }
   ],
   "source": [
    "df.tail()"
   ]
  },
  {
   "cell_type": "code",
   "execution_count": 120,
   "metadata": {
    "collapsed": false
   },
   "outputs": [],
   "source": [
    "out = {}\n",
    "for dc in df.countries_3:\n",
    "    for k, v in dc.iteritems():\n",
    "        if k in out.keys():\n",
    "            out[k] = out[k] + v\n",
    "        else:\n",
    "            out[k] = v"
   ]
  },
  {
   "cell_type": "code",
   "execution_count": 121,
   "metadata": {
    "collapsed": false
   },
   "outputs": [
    {
     "data": {
      "text/plain": [
       "{u'DEU': 50}"
      ]
     },
     "execution_count": 121,
     "metadata": {},
     "output_type": "execute_result"
    }
   ],
   "source": [
    "out"
   ]
  }
 ],
 "metadata": {
  "kernelspec": {
   "display_name": "Python 2",
   "language": "python",
   "name": "python2"
  },
  "language_info": {
   "codemirror_mode": {
    "name": "ipython",
    "version": 2
   },
   "file_extension": ".py",
   "mimetype": "text/x-python",
   "name": "python",
   "nbconvert_exporter": "python",
   "pygments_lexer": "ipython2",
   "version": "2.7.12"
  }
 },
 "nbformat": 4,
 "nbformat_minor": 1
}
