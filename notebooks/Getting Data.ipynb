{
 "cells": [
  {
   "cell_type": "code",
   "execution_count": 1,
   "metadata": {
    "collapsed": true
   },
   "outputs": [],
   "source": [
    "import facebook"
   ]
  },
  {
   "cell_type": "code",
   "execution_count": 3,
   "metadata": {
    "collapsed": false
   },
   "outputs": [],
   "source": [
    "\n",
    "token = TOKEN\n",
    "\n",
    "graph = facebook.GraphAPI(access_token=token, version='2.7')\n"
   ]
  },
  {
   "cell_type": "code",
   "execution_count": 6,
   "metadata": {
    "collapsed": false
   },
   "outputs": [
    {
     "data": {
      "text/plain": [
       "{u'data': [{u'created_time': u'2017-06-12T09:46:14+0000',\n",
       "   u'id': u'24369314439_10154944302089440',\n",
       "   u'message': u\"Supporters of Putin-critic Alexei Navalny are expected to mark Monday's public holiday with over 200 rallies nationwide. Navalny will lead the Moscow protest, which has the potential to turn violent.\"},\n",
       "  {u'created_time': u'2017-06-12T08:39:39+0000',\n",
       "   u'id': u'24369314439_10154944182269440',\n",
       "   u'message': u'For all of our coverage in the run-up to the German election visit www.dw.com/germanelections and follow the hashtag #GermanyDecides.'},\n",
       "  {u'created_time': u'2017-06-12T07:41:03+0000',\n",
       "   u'id': u'24369314439_10154944052244440',\n",
       "   u'message': u'Cheering, hundreds entered the EU in what President @Poroshenko called a symbolic \"final breakaway\" from Moscow.'},\n",
       "  {u'created_time': u'2017-06-12T06:39:55+0000',\n",
       "   u'id': u'24369314439_10154943939884440',\n",
       "   u'message': u\"UK PM Theresa May's plan to recruit Northern Ireland backers to stay in power has raised concerns in Dublin. Her cabinet reshuffle may signal a more open stance on Brexit talks with Europe.\"},\n",
       "  {u'created_time': u'2017-06-12T05:47:15+0000',\n",
       "   u'id': u'24369314439_10154942072974440',\n",
       "   u'message': u'The first bicycle ride took place 200 years ago.\\n\\nAny idea where? \\U0001f6b2'},\n",
       "  {u'created_time': u'2017-06-12T04:47:00+0000',\n",
       "   u'id': u'24369314439_10154941970799440',\n",
       "   u'message': u\"Foreigners released from prison in Peru aren't always free to leave the country; it takes them more than six months to get their exit-papers and leaves them prone to more problems.\"},\n",
       "  {u'created_time': u'2017-06-12T04:32:28+0000',\n",
       "   u'id': u'24369314439_10154943715034440',\n",
       "   u'message': u\"Preliminary results have shown French President Emmanuel Macron's political startup well ahead of traditional parties with over 30 percent in the first round of voting. The center-right Republicans have come in second.\"},\n",
       "  {u'created_time': u'2017-06-12T04:03:00+0000',\n",
       "   u'id': u'24369314439_10154941975129440',\n",
       "   u'message': u'June 12 marks the World Day Against Child Labour.'},\n",
       "  {u'created_time': u'2017-06-12T02:03:00+0000',\n",
       "   u'id': u'24369314439_10154941961294440',\n",
       "   u'message': u'\\U0001f914',\n",
       "   u'story': u'DW News feeling confused.'},\n",
       "  {u'created_time': u'2017-06-12T00:03:00+0000',\n",
       "   u'id': u'24369314439_10154941959824440',\n",
       "   u'message': u\"Inconsiderate gestures are annoying and make many people's life difficult. DW columnist Gero Schliess has noticed several ways Berlin could show it cares more for others.\"},\n",
       "  {u'created_time': u'2017-06-11T22:03:00+0000',\n",
       "   u'id': u'24369314439_10154941962489440',\n",
       "   u'message': u'Scientists say fossils unearthed in Morocco show early Homo sapiens roamed Africa 100,000 years earlier than previously thought.'},\n",
       "  {u'created_time': u'2017-06-11T20:03:00+0000',\n",
       "   u'id': u'24369314439_10154941963749440',\n",
       "   u'message': u'It could be the start of a new green energy transition in Jordan.'},\n",
       "  {u'created_time': u'2017-06-11T18:03:00+0000',\n",
       "   u'id': u'24369314439_10154941967684440',\n",
       "   u'message': u\"Germany has one of the most opaque lobbying systems in the industrialized world, according to LobbyControl. \\n\\nHere's how lobbyists gain their influence.\"},\n",
       "  {u'created_time': u'2017-06-11T15:53:04+0000',\n",
       "   u'id': u'24369314439_10154942065849440',\n",
       "   u'message': u'Angela Merkel avoided talking about  her new label as \"leader of the free world.\"\\n\\nThere\\'s a good reason for that, DW\\'s Michaela K\\xfcfner writes.'},\n",
       "  {u'created_time': u'2017-06-11T15:09:07+0000',\n",
       "   u'id': u'24369314439_10154941979439440',\n",
       "   u'message': u'Qatar was importing 80 percent of its food from bigger Gulf Arab neighbors before the diplomatic crisis.'},\n",
       "  {u'created_time': u'2017-06-11T14:23:31+0000',\n",
       "   u'id': u'24369314439_10154941896559440',\n",
       "   u'message': u'It could take a while, Donald J. Trump.'},\n",
       "  {u'created_time': u'2017-06-11T13:21:48+0000',\n",
       "   u'id': u'24369314439_10154941773894440',\n",
       "   u'message': u'President Poroshenko called it a symbolic \"final breakaway\" from Russia.'},\n",
       "  {u'created_time': u'2017-06-11T12:23:12+0000',\n",
       "   u'id': u'24369314439_10154941538014440',\n",
       "   u'message': u'Activists say a \"political witch hunt\" is ongoing in the country.'},\n",
       "  {u'created_time': u'2017-06-11T11:38:34+0000',\n",
       "   u'id': u'24369314439_10154941578054440',\n",
       "   u'message': u\"Kosovo is heading to the polls today.\\n\\nHere's what at stake.\"},\n",
       "  {u'created_time': u'2017-06-11T10:47:57+0000',\n",
       "   u'id': u'24369314439_10154941408264440',\n",
       "   u'message': u'\"If sharks go extinct, it would disrupt the whole ocean diversity.\"\\n\\nProtesters in Hong Kong call to stop the sale of shark meat, considered a status symbol in China.'},\n",
       "  {u'created_time': u'2017-06-11T09:49:59+0000',\n",
       "   u'id': u'24369314439_10154941397234440',\n",
       "   u'message': u\"Prime Minister Erna Solberg added she fully backed the European Union's sanctions against Moscow.\"},\n",
       "  {u'created_time': u'2017-06-11T09:03:00+0000',\n",
       "   u'id': u'24369314439_10154938422409440',\n",
       "   u'message': u'Nearly 16 million people need urgent assistance.'},\n",
       "  {u'created_time': u'2017-06-11T07:02:00+0000',\n",
       "   u'id': u'24369314439_10154938446034440',\n",
       "   u'message': u'IN PICTURES\\n\\n10 very German passions p.dw.com/p/2bTKQ',\n",
       "   u'story': u'DW News added 3 new photos \\u2014 reading paperwork.'},\n",
       "  {u'created_time': u'2017-06-11T05:03:00+0000',\n",
       "   u'id': u'24369314439_10154938430204440',\n",
       "   u'message': u'The ancient Greeks and Romans used snails for beauty treatments. Now 2,000 years on, snail farming is flourishing in Italy thanks to a new craze for slime-based skincare and health products.'},\n",
       "  {u'created_time': u'2017-06-11T03:01:00+0000',\n",
       "   u'id': u'24369314439_10154936311834440',\n",
       "   u'message': u'Plastic pollution and overfishing may currently be in the headlines. But rising CO2 emissions are also a key threat to the ocean that covers 71 percent of the planet, and a major challenge for future life on Earth.'}],\n",
       " u'paging': {u'cursors': {u'after': u'Q2c4U1pXNTBYM0YxWlhKNVgzTjBiM0o1WDJsa0R5QXlORE0yT1RNeE5EUXpPVG90TXpVeE1UazBNREl4TlRNNU5Ea3hNVFkxTkE4TVlYQnBYM04wYjNKNVgybGtEeDB5TkRNMk9UTXhORFF6T1Y4eE1ERTFORGt6TmpNeE1UZA3pORFEwTUE4RWRHbHRaUVpaUExKc0FRPT0ZD',\n",
       "   u'before': u'Q2c4U1pXNTBYM0YxWlhKNVgzTjBiM0o1WDJsa0R5QXlORE0yT1RNeE5EUXpPVG90TkRJMU1qZAzNNVGs1TWpRd056YzNPVGsxTVE4TVlYQnBYM04wYjNKNVgybGtEeDB5TkRNMk9UTXhORFF6T1Y4eE1ERTFORGswTkRNd01qQTRPVFEwTUE4RWRHbHRaUVpaUG1MbUFRPT0ZD'},\n",
       "  u'next': u'https://graph.facebook.com/v2.9/24369314439/posts?access_token=TOKEN&limit=25&after=Q2c4U1pXNTBYM0YxWlhKNVgzTjBiM0o1WDJsa0R5QXlORE0yT1RNeE5EUXpPVG90TXpVeE1UazBNREl4TlRNNU5Ea3hNVFkxTkE4TVlYQnBYM04wYjNKNVgybGtEeDB5TkRNMk9UTXhORFF6T1Y4eE1ERTFORGt6TmpNeE1UZA3pORFEwTUE4RWRHbHRaUVpaUExKc0FRPT0ZD'}}"
      ]
     },
     "execution_count": 6,
     "metadata": {},
     "output_type": "execute_result"
    }
   ],
   "source": [
    "graph.get_connections('24369314439', connection_name='posts', posts_limit=100)"
   ]
  },
  {
   "cell_type": "code",
   "execution_count": null,
   "metadata": {
    "collapsed": true
   },
   "outputs": [],
   "source": []
  }
 ],
 "metadata": {
  "kernelspec": {
   "display_name": "Python 2",
   "language": "python",
   "name": "python2"
  },
  "language_info": {
   "codemirror_mode": {
    "name": "ipython",
    "version": 2
   },
   "file_extension": ".py",
   "mimetype": "text/x-python",
   "name": "python",
   "nbconvert_exporter": "python",
   "pygments_lexer": "ipython2",
   "version": "2.7.12"
  }
 },
 "nbformat": 4,
 "nbformat_minor": 1
}
